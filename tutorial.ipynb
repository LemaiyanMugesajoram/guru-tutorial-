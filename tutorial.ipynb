{
 "cells": [
  {
   "cell_type": "code",
   "execution_count": 3,
   "id": "80d369f7-a03e-47fc-ad14-84ca305606c8",
   "metadata": {},
   "outputs": [
    {
     "name": "stdout",
     "output_type": "stream",
     "text": [
      " Gurus' Test Scores:\n",
      "Joram scored 78 marks\n",
      "Amina scored 85 marks\n",
      "Brian scored 62 marks\n",
      "Naliaka scored 90 marks\n",
      "Mwangi scored 74 marks\n",
      "Linet scored 88 marks\n",
      "Kim scored 95 marks\n",
      "\n",
      " First guru to score above 90:\n",
      "Kim scored 95 marks — brilliant!\n",
      "\n",
      " Average Score: 81.71 marks\n"
     ]
    }
   ],
   "source": [
    "gurus = [\"Joram\", \"Amina\", \"Brian\", \"Naliaka\", \"Mwangi\", \"Linet\", \"Kim\"]\n",
    "scores = [78, 85, 62, 90, 74, 88, 95]\n",
    "\n",
    "\n",
    "print(\" Gurus' Test Scores:\")\n",
    "for i in range(len(gurus)):\n",
    "    print(f\"{gurus[i]} scored {scores[i]} marks\")\n",
    "\n",
    "# The first guru who scored above 90\n",
    "print(\"\\n First guru to score above 90:\")\n",
    "index = 0\n",
    "while index < len(scores):\n",
    "    if scores[index] > 90:\n",
    "        print(f\"{gurus[index]} scored {scores[index]} marks — brilliant!\")\n",
    "        break\n",
    "    index += 1\n",
    "\n",
    "# Calculate and print average score\n",
    "total = 0\n",
    "for score in scores:\n",
    "    total += score\n",
    "\n",
    "average = total / len(scores)\n",
    "print(f\"\\n Average Score: {average:.2f} marks\")\n",
    "\n",
    "\n"
   ]
  },
  {
   "cell_type": "code",
   "execution_count": 5,
   "id": "774d1f0d-b02a-4ae5-bd62-3ebdfe4394ef",
   "metadata": {},
   "outputs": [
    {
     "name": "stdout",
     "output_type": "stream",
     "text": [
      " Guru Rankings:\n",
      "1. Kim - 95 marks\n",
      "2. Naliaka - 90 marks\n",
      "3. Linet - 88 marks\n",
      "4. Amina - 85 marks\n",
      "5. Joram - 78 marks\n",
      "6. Mwangi - 74 marks\n",
      "7. Brian - 62 marks\n"
     ]
    }
   ],
   "source": [
    "\n",
    "gurus = [\"Joram\", \"Amina\", \"Brian\", \"Naliaka\", \"Mwangi\", \"Linet\", \"Kim\"]\n",
    "scores = [78, 85, 62, 90, 74, 88, 95]\n",
    "\n",
    "\n",
    "guru_scores = list(zip(gurus, scores))\n",
    "\n",
    "\n",
    "sorted_guru_scores = sorted(guru_scores, key=lambda x: x[1], reverse=True)\n",
    "\n",
    "\n",
    "print(\" Guru Rankings:\")\n",
    "for rank, (name, score) in enumerate(sorted_guru_scores, start=1):\n",
    "    print(f\"{rank}. {name} - {score} marks\")\n"
   ]
  },
  {
   "cell_type": "code",
   "execution_count": null,
   "id": "8d5b4cb3-1712-4290-8b75-776930aec4df",
   "metadata": {},
   "outputs": [],
   "source": []
  }
 ],
 "metadata": {
  "kernelspec": {
   "display_name": "Python 3 (ipykernel)",
   "language": "python",
   "name": "python3"
  },
  "language_info": {
   "codemirror_mode": {
    "name": "ipython",
    "version": 3
   },
   "file_extension": ".py",
   "mimetype": "text/x-python",
   "name": "python",
   "nbconvert_exporter": "python",
   "pygments_lexer": "ipython3",
   "version": "3.10.18"
  }
 },
 "nbformat": 4,
 "nbformat_minor": 5
}
